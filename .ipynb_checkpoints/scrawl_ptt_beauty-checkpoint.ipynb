{
 "cells": [
  {
   "cell_type": "code",
   "execution_count": 44,
   "metadata": {
    "collapsed": true
   },
   "outputs": [],
   "source": [
    "import os\n",
    "from bs4 import BeautifulSoup\n",
    "from PIL import Image\n",
    "import requests\n",
    "import re\n",
    "from urllib.request import urlretrieve"
   ]
  },
  {
   "cell_type": "code",
   "execution_count": 88,
   "metadata": {},
   "outputs": [
    {
     "name": "stdout",
     "output_type": "stream",
     "text": [
      "http://i.imgur.com/TZObafA.jpg\n",
      "http://i.imgur.com/UJSohX4.jpg\n",
      "http://i.imgur.com/UJSohX4.jpg\n",
      "http://i.imgur.com/QH9AmiL.jpg\n",
      "http://i.imgur.com/jPfoFbR.jpg\n",
      "https://www.ptt.cc//bbs/Beauty/index2832.html\n",
      "http://i.imgur.com/dt2i4kB.jpg\n",
      "http://i.imgur.com/ojPt14R.jpg\n",
      "http://i.imgur.com/LWr2tjn.jpg\n",
      "http://i.imgur.com/9m67shq.jpg\n",
      "http://i.imgur.com/uKRP4A9.jpg\n",
      "http://i.imgur.com/wse2unf.jpg\n",
      "http://i.imgur.com/LdpmLNa.jpg\n",
      "http://i.imgur.com/vkzwJaG.jpg\n",
      "http://i.imgur.com/EQG7M6e.jpg\n",
      "http://i.imgur.com/jSTgsPn.jpg\n",
      "http://i.imgur.com/Ac7lAly.jpg\n",
      "http://i.imgur.com/jz1XE8Q.jpg\n",
      "http://i.imgur.com/oLhRcvp.jpg\n",
      "http://i.imgur.com/04dHohU.jpg\n",
      "http://i.imgur.com/d1x5tBx.jpg\n",
      "http://i.imgur.com/syz39Fo.jpg\n",
      "http://i.imgur.com/gbci40B.jpg\n",
      "http://i.imgur.com/meYKPKK.jpg\n",
      "http://i.imgur.com/OLGOosg.jpg\n",
      "http://i.imgur.com/Ju4ArhJ.jpg\n",
      "http://i.imgur.com/VdglEGj.jpg\n",
      "http://i.imgur.com/kczC8yV.jpg\n",
      "http://i.imgur.com/agPouWr.jpg\n",
      "http://i.imgur.com/Blt9dfG.jpg\n",
      "http://i.imgur.com/lCo7gzK.jpg\n",
      "http://i.imgur.com/iytHJj8.jpg\n",
      "http://i.imgur.com/dxXUTYB.jpg\n",
      "http://i.imgur.com/Nhqbvop.gif\n",
      "http://i.imgur.com/dde1qhD.gif\n",
      "http://i.imgur.com/6uf1Kmc.gif\n",
      "http://i.imgur.com/RkwCMtJ.gif\n",
      "http://i.imgur.com/oz73VeL.gif\n",
      "http://i.imgur.com/ixolpfA.jpg\n",
      "https://www.ptt.cc//bbs/Beauty/index2831.html\n",
      "http://i.imgur.com/n7lNJEW.jpg\n",
      "http://i.imgur.com/w9y6OGx.jpg\n",
      "http://i.imgur.com/YugMxjr.jpg\n",
      "http://i.imgur.com/7uuP22T.gif\n",
      "http://i.imgur.com/22Y4l3C.jpg\n",
      "http://i.imgur.com/xwdRKIY.jpg\n",
      "https://www.ptt.cc//bbs/Beauty/index2830.html\n"
     ]
    }
   ],
   "source": [
    "page_url = \"https://www.ptt.cc/bbs/Beauty/index.html\"\n",
    "pages = 3\n",
    "\n",
    "os.makedirs(\"./images\",exist_ok=True)\n",
    "\n",
    "for page in range(pages):\n",
    "    \n",
    "    resp = requests.get(page_url)\n",
    "    soup = BeautifulSoup(resp.text,'lxml')\n",
    "    \n",
    "    for article in soup.select(\".r-ent a\"):\n",
    "        url = 'https://www.ptt.cc'+article['href']\n",
    "        res = requests.get(url)\n",
    "        temp_soup = BeautifulSoup(res.text,'lxml')\n",
    "        \n",
    "        artice_img_list = temp_soup.find_all(\"a\",{\"href\":re.compile(\"http:\\/\\/i\\.imgur\\.com/.*\")})\n",
    "        if len(artice_img_list)>0:\n",
    "            for index,img_url in enumerate(artice_img_list):\n",
    "                try:\n",
    "                    print(img_url['href'])\n",
    "                    urlretrieve(img_url['href'],f'./images/{article.text}_{index}.jpg')\n",
    "                except:\n",
    "                    pass\n",
    "                \n",
    "\n",
    "    find_previous = soup.select(\".btn-group a\")\n",
    "    for i in find_previous:\n",
    "        if i.text=='‹ 上頁':\n",
    "            page_url = \"https://www.ptt.cc/\"+i['href']\n",
    "    print(page_url)\n",
    "    \n"
   ]
  },
  {
   "cell_type": "code",
   "execution_count": null,
   "metadata": {
    "collapsed": true
   },
   "outputs": [],
   "source": []
  }
 ],
 "metadata": {
  "kernelspec": {
   "display_name": "Python 3",
   "language": "python",
   "name": "python3"
  },
  "language_info": {
   "codemirror_mode": {
    "name": "ipython",
    "version": 3
   },
   "file_extension": ".py",
   "mimetype": "text/x-python",
   "name": "python",
   "nbconvert_exporter": "python",
   "pygments_lexer": "ipython3",
   "version": "3.6.1"
  }
 },
 "nbformat": 4,
 "nbformat_minor": 2
}
